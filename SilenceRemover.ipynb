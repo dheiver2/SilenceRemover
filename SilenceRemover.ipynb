{
  "nbformat": 4,
  "nbformat_minor": 0,
  "metadata": {
    "colab": {
      "provenance": []
    },
    "kernelspec": {
      "name": "python3",
      "display_name": "Python 3"
    },
    "language_info": {
      "name": "python"
    }
  },
  "cells": [
    {
      "cell_type": "code",
      "execution_count": 4,
      "metadata": {
        "colab": {
          "base_uri": "https://localhost:8080/"
        },
        "id": "7G_028qOB4kF",
        "outputId": "a767a9be-ca5c-440b-bad4-38b09c560687"
      },
      "outputs": [
        {
          "output_type": "stream",
          "name": "stdout",
          "text": [
            "MoviePy - Writing audio in /tmp/tmpy2j665cv/temp_audio.wav\n"
          ]
        },
        {
          "output_type": "stream",
          "name": "stderr",
          "text": []
        },
        {
          "output_type": "stream",
          "name": "stdout",
          "text": [
            "MoviePy - Done.\n",
            "Moviepy - Building video output.mp4.\n",
            "MoviePy - Writing audio in outputTEMP_MPY_wvf_snd.mp3\n"
          ]
        },
        {
          "output_type": "stream",
          "name": "stderr",
          "text": []
        },
        {
          "output_type": "stream",
          "name": "stdout",
          "text": [
            "MoviePy - Done.\n",
            "Moviepy - Writing video output.mp4\n",
            "\n"
          ]
        },
        {
          "output_type": "stream",
          "name": "stderr",
          "text": [
            "t: 100%|█████████▉| 5246/5247 [09:21<00:00,  9.64it/s, now=None]WARNING:py.warnings:/usr/local/lib/python3.10/dist-packages/moviepy/video/io/ffmpeg_reader.py:123: UserWarning: Warning: in file video.mp4, 6220800 bytes wanted but 0 bytes read,at frame 6249/6250, at time 208.30/208.31 sec. Using the last valid frame instead.\n",
            "  warnings.warn(\"Warning: in file %s, \"%(self.filename)+\n",
            "\n"
          ]
        },
        {
          "output_type": "stream",
          "name": "stdout",
          "text": [
            "Moviepy - Done !\n",
            "Moviepy - video ready output.mp4\n",
            "Vídeo processado com sucesso. Salvo como output.mp4\n"
          ]
        }
      ],
      "source": [
        "import os\n",
        "import tempfile\n",
        "from moviepy.editor import VideoFileClip, AudioFileClip, concatenate_videoclips\n",
        "from pydub import AudioSegment\n",
        "from pydub.silence import detect_nonsilent\n",
        "\n",
        "class SilenceRemover:\n",
        "    def __init__(self, input_file, output_file, min_silence_len=1000, silence_thresh=-40):\n",
        "        self.input_file = input_file\n",
        "        self.output_file = output_file\n",
        "        self.min_silence_len = min_silence_len  # em milissegundos\n",
        "        self.silence_thresh = silence_thresh  # em dB\n",
        "\n",
        "    def remove_silence(self):\n",
        "        try:\n",
        "            # Criar um diretório temporário\n",
        "            with tempfile.TemporaryDirectory() as temp_dir:\n",
        "                # Carregar o vídeo\n",
        "                video = VideoFileClip(self.input_file)\n",
        "\n",
        "                # Extrair o áudio para um arquivo temporário\n",
        "                temp_audio_path = os.path.join(temp_dir, \"temp_audio.wav\")\n",
        "                video.audio.write_audiofile(temp_audio_path)\n",
        "\n",
        "                # Carregar o áudio com pydub\n",
        "                audio = AudioSegment.from_wav(temp_audio_path)\n",
        "\n",
        "                # Detectar intervalos não silenciosos\n",
        "                nonsilent_ranges = detect_nonsilent(\n",
        "                    audio,\n",
        "                    min_silence_len=self.min_silence_len,\n",
        "                    silence_thresh=self.silence_thresh\n",
        "                )\n",
        "\n",
        "                if not nonsilent_ranges:\n",
        "                    raise ValueError(\"Nenhum intervalo não silencioso detectado no vídeo.\")\n",
        "\n",
        "                # Cortar o vídeo nos intervalos não silenciosos\n",
        "                clips = [video.subclip(start/1000, end/1000) for start, end in nonsilent_ranges]\n",
        "\n",
        "                # Concatenar os clips\n",
        "                final_clip = concatenate_videoclips(clips)\n",
        "\n",
        "                # Escrever o resultado\n",
        "                final_clip.write_videofile(self.output_file)\n",
        "\n",
        "                # Fechar os clips\n",
        "                video.close()\n",
        "                final_clip.close()\n",
        "\n",
        "            print(f\"Vídeo processado com sucesso. Salvo como {self.output_file}\")\n",
        "\n",
        "        except Exception as e:\n",
        "            print(f\"Erro ao processar o vídeo: {str(e)}\")\n",
        "\n",
        "# Exemplo de uso\n",
        "if __name__ == \"__main__\":\n",
        "    remover = SilenceRemover(\"video.mp4\", \"output.mp4\")\n",
        "    remover.remove_silence()"
      ]
    },
    {
      "cell_type": "markdown",
      "source": [
        "Para criar um arquivo `requirements.txt` que lista as dependências necessárias para o seu código, você precisa incluir todas as bibliotecas que seu script utiliza. Aqui está uma sugestão para o conteúdo do arquivo `requirements.txt` com base nas bibliotecas que você mencionou no seu código:\n",
        "\n",
        "```plaintext\n",
        "moviepy==1.0.3\n",
        "pydub==0.25.1\n",
        "transformers==4.22.1\n",
        "```\n",
        "\n",
        "### Como criar o arquivo `requirements.txt`:\n",
        "\n",
        "1. **Criar o arquivo**: Você pode criar o arquivo manualmente ou usar o seguinte comando no terminal (se estiver em um ambiente Unix/Linux ou em um terminal do Windows):\n",
        "\n",
        "   ```bash\n",
        "   echo \"moviepy==1.0.3\" >> requirements.txt\n",
        "   echo \"pydub==0.25.1\" >> requirements.txt\n",
        "   echo \"transformers==4.22.1\" >> requirements.txt\n",
        "   ```\n",
        "\n",
        "2. **Instalar as dependências**: Depois de criar o `requirements.txt`, você pode instalar todas as dependências usando o seguinte comando:\n",
        "\n",
        "   ```bash\n",
        "   pip install -r requirements.txt\n",
        "   ```\n",
        "\n",
        "### Notas:\n",
        "- Certifique-se de que a versão da biblioteca esteja de acordo com suas necessidades e compatível com o seu código.\n",
        "- O `transformers` é listado aqui, mas não está sendo utilizado no código atual. Se não for necessário, você pode removê-lo da lista.\n",
        "- Se você estiver usando o Google Colab, não é necessário criar um arquivo `requirements.txt`; você pode instalar as bibliotecas diretamente nas células do Colab, por exemplo:\n",
        "\n",
        "   ```python\n",
        "   !pip install moviepy pydub\n",
        "   ```\n",
        "\n",
        "Se precisar de mais alguma coisa ou ajustes, é só avisar!"
      ],
      "metadata": {
        "id": "PxT5U45gdEgW"
      }
    }
  ]
}